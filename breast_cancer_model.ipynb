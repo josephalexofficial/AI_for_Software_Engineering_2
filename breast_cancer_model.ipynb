# 🧠 Breast Cancer Dataset - Predictive Analytics for Issue Priority
# Simulate bug/issue priority prediction using diagnosis labels
# High = Malignant, Low = Benign

# 1. Load Libraries
import pandas as pd
import numpy as np
from sklearn.model_selection import train_test_split
from sklearn.preprocessing import LabelEncoder
from sklearn.ensemble import RandomForestClassifier
from sklearn.metrics import accuracy_score, f1_score, classification_report, confusion_matrix
import seaborn as sns
import matplotlib.pyplot as plt

# 2. Load Dataset
df = pd.read_csv('data.csv')  # Ensure 'data.csv' is in the same directory

# 3. Preprocess Dataset
df.drop(['id', 'Unnamed: 32'], axis=1, inplace=True)

# Simulate issue priority: 'M' (Malignant) = high, 'B' (Benign) = low
df['diagnosis'] = df['diagnosis'].map({'M': 'high', 'B': 'low'})

# Encode priority as numerical (for classification)
label_encoder = LabelEncoder()
df['priority'] = label_encoder.fit_transform(df['diagnosis'])  # high=0, low=1

# 4. Define Features and Target
X = df.drop(['diagnosis', 'priority'], axis=1)
y = df['priority']

# 5. Train/Test Split
X_train, X_test, y_train, y_test = train_test_split(
    X, y, test_size=0.2, random_state=42
)

# 6. Train Random Forest Model
model = RandomForestClassifier(n_estimators=100, random_state=42)
model.fit(X_train, y_train)

# 7. Make Predictions
y_pred = model.predict(X_test)

# 8. Evaluate Model
accuracy = accuracy_score(y_test, y_pred)
f1 = f1_score(y_test, y_pred)
report = classification_report(y_test, y_pred)

print(f"✅ Accuracy: {accuracy:.4f}")
print(f"✅ F1-Score: {f1:.4f}")
print("\n📊 Classification Report:\n", report)

# 9. Plot Confusion Matrix
cm = confusion_matrix(y_test, y_pred)
plt.figure(figsize=(6,4))
sns.heatmap(cm, annot=True, fmt='d', cmap='Blues',
            xticklabels=['High', 'Low'],
            yticklabels=['High', 'Low'])
plt.title('Confusion Matrix')
plt.xlabel('Predicted')
plt.ylabel('Actual')
plt.tight_layout()
plt.show()

# 10. (Optional) Feature Importance
feat_importance = pd.Series(model.feature_importances_, index=X.columns)
feat_importance.nlargest(10).plot(kind='barh')
plt.title("Top 10 Feature Importances")
plt.xlabel("Importance Score")
plt.tight_layout()
plt.show()
